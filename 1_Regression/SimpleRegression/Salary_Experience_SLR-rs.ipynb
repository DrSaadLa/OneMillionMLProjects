{
 "cells": [
  {
   "cell_type": "code",
   "execution_count": null,
   "id": "1ca0bc6b-c2fb-48a4-bc68-67e0b5be5297",
   "metadata": {},
   "outputs": [],
   "source": []
  },
  {
   "cell_type": "code",
   "execution_count": 2,
   "id": "41472f49-b750-44de-b17b-9f115af73e22",
   "metadata": {
    "tags": []
   },
   "outputs": [],
   "source": [
    ":dep csv = { version = \"1.1\" }\n",
    ":dep serde = { version = \"1.0\", features = [\"derive\"] }"
   ]
  },
  {
   "cell_type": "code",
   "execution_count": 10,
   "id": "b44fff98-8662-4390-ae86-7df962c9366a",
   "metadata": {
    "tags": []
   },
   "outputs": [],
   "source": [
    "use csv::{ReaderBuilder, Reader, Error};\n",
    "use serde::Deserialize;\n",
    "use std::error::Error;\n",
    "use std::path::PathBuf;\n",
    "\n",
    "#[derive(Debug, Deserialize)]\n",
    "struct Record {\n",
    "    YearsExperience: f64,\n",
    "    Salary: f64,\n",
    "}\n",
    "\n",
    "fn read_data(file_path: PathBuf) -> Result<(), Box<dyn Error>> {\n",
    "    let mut reader = Reader::from_path(file_path)?;\n",
    "\n",
    "    for result in reader.deserialize() {\n",
    "        let record: Record = result?;\n",
    "        println!(\"{:?}\", record);\n",
    "    }\n",
    "\n",
    "    Ok(())\n",
    "}"
   ]
  },
  {
   "cell_type": "code",
   "execution_count": 4,
   "id": "abad62ec-dcd8-4711-92a2-bdd3c27d1cbb",
   "metadata": {
    "tags": []
   },
   "outputs": [],
   "source": [
    "let data_root = PathBuf::from(\"../../datasets/\");\n",
    "let salary_data = data_root.join(\"Salary_Data.csv\");"
   ]
  },
  {
   "cell_type": "code",
   "execution_count": 5,
   "id": "c78f801a-fde1-47e6-b33d-f49b944e294d",
   "metadata": {
    "tags": []
   },
   "outputs": [
    {
     "name": "stdout",
     "output_type": "stream",
     "text": [
      "Record { YearsExperience: 1.1, Salary: 39343.0 }\n",
      "Record { YearsExperience: 2.9, Salary: 56642.0 }\n",
      "Record { YearsExperience: 5.3, Salary: 83088.0 }\n",
      "Record { YearsExperience: 4.0, Salary: 56957.0 }\n",
      "Record { YearsExperience: 4.1, Salary: 57081.0 }\n",
      "Record { YearsExperience: 4.5, Salary: 61111.0 }\n",
      "Record { YearsExperience: 4.9, Salary: 67938.0 }\n",
      "Record { YearsExperience: 5.1, Salary: 66029.0 }\n",
      "Record { YearsExperience: 5.9, Salary: 81363.0 }\n",
      "Record { YearsExperience: 6.0, Salary: 93940.0 }\n",
      "Record { YearsExperience: 6.8, Salary: 91738.0 }\n",
      "Record { YearsExperience: 7.1, Salary: 98273.0 }\n",
      "Record { YearsExperience: 9.0, Salary: 105582.0 }\n",
      "Record { YearsExperience: 9.5, Salary: 116969.0 }\n",
      "Record { YearsExperience: 9.6, Salary: 112635.0 }\n",
      "Record { YearsExperience: 10.3, Salary: 122391.0 }\n",
      "Record { YearsExperience: 7.9, Salary: 101302.0 }\n",
      "Record { YearsExperience: 10.5, Salary: 121872.0 }\n",
      "Record { YearsExperience: 8.2, Salary: 113812.0 }\n",
      "Record { YearsExperience: 8.7, Salary: 109431.0 }\n",
      "Record { YearsExperience: 3.2, Salary: 64445.0 }\n",
      "Record { YearsExperience: 3.0, Salary: 60150.0 }\n",
      "Record { YearsExperience: 3.2, Salary: 54445.0 }\n",
      "Record { YearsExperience: 1.5, Salary: 37731.0 }\n",
      "Record { YearsExperience: 1.3, Salary: 46205.0 }\n",
      "Record { YearsExperience: 3.9, Salary: 63218.0 }\n",
      "Record { YearsExperience: 3.7, Salary: 57189.0 }\n",
      "Record { YearsExperience: 2.0, Salary: 43525.0 }\n",
      "Record { YearsExperience: 2.2, Salary: 39891.0 }\n",
      "Record { YearsExperience: 4.0, Salary: 55794.0 }\n"
     ]
    }
   ],
   "source": [
    "read_data(salary_data).expect(\"Failed to read data\");"
   ]
  },
  {
   "cell_type": "code",
   "execution_count": null,
   "id": "09c9a291-03c5-47e6-8ba3-0ef04a0c2073",
   "metadata": {},
   "outputs": [],
   "source": []
  }
 ],
 "metadata": {
  "kernelspec": {
   "display_name": "Rust",
   "language": "rust",
   "name": "rust"
  },
  "language_info": {
   "codemirror_mode": "rust",
   "file_extension": ".rs",
   "mimetype": "text/rust",
   "name": "Rust",
   "pygment_lexer": "rust",
   "version": ""
  }
 },
 "nbformat": 4,
 "nbformat_minor": 5
}
